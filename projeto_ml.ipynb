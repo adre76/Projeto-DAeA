{
  "cells": [
    {
      "cell_type": "markdown",
      "metadata": {
        "colab_type": "text",
        "id": "view-in-github"
      },
      "source": [
        "<a href=\"https://colab.research.google.com/github/adre76/Projeto-DAeA/blob/main/projeto_ml.ipynb\" target=\"_parent\"><img src=\"https://colab.research.google.com/assets/colab-badge.svg\" alt=\"Open In Colab\"/></a>"
      ]
    },
    {
      "cell_type": "markdown",
      "metadata": {
        "id": "9qkYO1DgFTFL"
      },
      "source": [
        "Importando bibliotecas"
      ]
    },
    {
      "cell_type": "code",
      "execution_count": 2,
      "metadata": {
        "id": "Q1m7CB97EhYJ"
      },
      "outputs": [],
      "source": [
        "import pandas as pd\n",
        "import numpy as np\n",
        "import matplotlib.pyplot as plt\n",
        "from sklearn.feature_extraction.text import TfidfVectorizer\n",
        "from sklearn.feature_selection import chi2"
      ]
    },
    {
      "cell_type": "markdown",
      "metadata": {
        "id": "A7oCVeaUFYzE"
      },
      "source": [
        "Carregando o dataset de machine learning"
      ]
    },
    {
      "cell_type": "code",
      "execution_count": 3,
      "metadata": {
        "id": "WuJZpQdkFW_R"
      },
      "outputs": [],
      "source": [
        "dados = pd.read_csv('Dataset\\mbti.csv', sep='^([^,]+),', engine='python')\n",
        "dados.columns = ['vazio', 'type', 'posts']\n",
        "dados.drop(columns='vazio', inplace=True)\n",
        "\n",
        "#dados = dados.iloc[0], dados.iloc[: , 1] + dados.iloc[: , 2]\n",
        "#type(dados)\n"
      ]
    },
    {
      "cell_type": "markdown",
      "metadata": {
        "id": "aFKcvSTg0tpp"
      },
      "source": [
        "Gráfico com a contagem de tipos MBTI no dataset"
      ]
    },
    {
      "cell_type": "code",
      "execution_count": 4,
      "metadata": {
        "colab": {
          "base_uri": "https://localhost:8080/",
          "height": 295
        },
        "id": "5qimex-X0yQx",
        "outputId": "3ed7f70a-1d0e-45c5-eb4f-1e1abc764160"
      },
      "outputs": [
        {
          "data": {
            "image/png": "[encoded data removed]",
            "text/plain": [
              "<Figure size 432x288 with 1 Axes>"
            ]
          },
          "metadata": {
            "needs_background": "light"
          },
          "output_type": "display_data"
        }
      ],
      "source": [
        "dados.groupby('type').posts.count().plot.bar()\n",
        "plt.show()"
      ]
    },
    {
      "cell_type": "markdown",
      "metadata": {
        "id": "MKt2bVKfDq7S"
      },
      "source": [
        "Pré processamento:\n",
        "Criando a coluna de ID dos tipos de código MBTI"
      ]
    },
    {
      "cell_type": "code",
      "execution_count": 5,
      "metadata": {
        "id": "0mlXaVvYrHCT"
      },
      "outputs": [],
      "source": [
        "dados['type_id'] = dados['type'].factorize()[0]\n",
        "type_id_df = dados[['type', 'type_id']].drop_duplicates().sort_values('type_id')\n",
        "type_to_id = dict(type_id_df.values)\n",
        "id_to_type = dict(type_id_df[['type_id', 'type']].values)\n",
        "labels = dados.type_id"
      ]
    },
    {
      "cell_type": "markdown",
      "metadata": {
        "id": "Cr1wot8KBGoC"
      },
      "source": [
        "Separando o dataset para o aprendizado"
      ]
    },
    {
      "cell_type": "code",
      "execution_count": 6,
      "metadata": {
        "id": "fkscjVSBFwk5"
      },
      "outputs": [],
      "source": [
        "posts = dados[\"posts\"]\n",
        "classificacoes = dados[\"type\"]"
      ]
    },
    {
      "cell_type": "markdown",
      "metadata": {
        "id": "aBH-Ee7ZBJ4L"
      },
      "source": [
        "Parametrizando a função de aprendizado de texto do SKLearn e convertendo os posts em arrays numéricos."
      ]
    },
    {
      "cell_type": "code",
      "execution_count": 7,
      "metadata": {
        "id": "toSF1cN9BNjI"
      },
      "outputs": [],
      "source": [
        "tfidf = TfidfVectorizer(sublinear_tf=True, min_df=5, norm='l2', encoding='latin-1', ngram_range=(1, 2), stop_words='english')"
      ]
    },
    {
      "cell_type": "code",
      "execution_count": 8,
      "metadata": {
        "colab": {
          "base_uri": "https://localhost:8080/"
        },
        "id": "xY6EKVPoBNCC",
        "outputId": "ecdb719e-ab69-47ba-8856-97dce62703fb"
      },
      "outputs": [
        {
          "data": {
            "text/plain": [
              "(8674, 149851)"
            ]
          },
          "execution_count": 8,
          "metadata": {},
          "output_type": "execute_result"
        }
      ],
      "source": [
        "features = tfidf.fit_transform(posts).toarray()\n",
        "features.shape"
      ]
    },
    {
      "cell_type": "markdown",
      "metadata": {
        "id": "Vr-JjKiQCS_f"
      },
      "source": [
        "Agora, cada uma das 8674 narrativas é representada por 149851 recursos (features), representando a pontuação tf-idf para diferentes unigramas e bigramas."
      ]
    },
    {
      "cell_type": "markdown",
      "metadata": {
        "id": "jKYk-MLlDppc"
      },
      "source": [
        "Usando sklearn.feature_selection.chi2 para encontrar os termos que estão mais correlacionados com cada classificação MBTI:"
      ]
    },
    {
      "cell_type": "code",
      "execution_count": 14,
      "metadata": {
        "id": "5s8jh8f9Cdf2"
      },
      "outputs": [
        {
          "name": "stdout",
          "output_type": "stream",
          "text": [
            "# 'ENFJ':\n",
            "  . Unigramas mais correlacionados:\n",
            ". enfj\n",
            ". enfjs\n",
            "  . Bigramas mais correlacionados:\n",
            ". healthy enfj\n",
            ". fellow enfj\n",
            "__________________________________________\n",
            "\n",
            "# 'ENFP':\n",
            "  . Unigramas mais correlacionados:\n",
            ". enfps\n",
            ". enfp\n",
            "  . Bigramas mais correlacionados:\n",
            ". fellow enfp\n",
            ". know enfp\n",
            "__________________________________________\n",
            "\n",
            "# 'ENTJ':\n",
            "  . Unigramas mais correlacionados:\n",
            ". entjs\n",
            ". entj\n",
            "  . Bigramas mais correlacionados:\n",
            ". fellow entjs\n",
            ". entj forum\n",
            "__________________________________________\n",
            "\n",
            "# 'ENTP':\n",
            "  . Unigramas mais correlacionados:\n",
            ". entps\n",
            ". entp\n",
            "  . Bigramas mais correlacionados:\n",
            ". entp female\n",
            ". know entp\n",
            "__________________________________________\n",
            "\n",
            "# 'ESFJ':\n",
            "  . Unigramas mais correlacionados:\n",
            ". lenabelle\n",
            ". esfjs\n",
            "  . Bigramas mais correlacionados:\n",
            ". esfj guys\n",
            ". just esfjs\n",
            "__________________________________________\n",
            "\n",
            "# 'ESFP':\n",
            "  . Unigramas mais correlacionados:\n",
            ". heathers\n",
            ". digger\n",
            "  . Bigramas mais correlacionados:\n",
            ". extp tmlt\n",
            ". memory talon\n",
            "__________________________________________\n",
            "\n",
            "# 'ESTJ':\n",
            "  . Unigramas mais correlacionados:\n",
            ". hav\n",
            ". estjs\n",
            "  . Bigramas mais correlacionados:\n",
            ". wicked queen\n",
            ". posh eagle\n",
            "__________________________________________\n",
            "\n",
            "# 'ESTP':\n",
            "  . Unigramas mais correlacionados:\n",
            ". estp\n",
            ". estps\n",
            "  . Bigramas mais correlacionados:\n",
            ". estp female\n",
            ". estp forum\n",
            "__________________________________________\n",
            "\n",
            "# 'INFJ':\n",
            "  . Unigramas mais correlacionados:\n",
            ". infjs\n",
            ". infj\n",
            "  . Bigramas mais correlacionados:\n",
            ". fellow infj\n",
            ". know infj\n",
            "__________________________________________\n",
            "\n",
            "# 'INFP':\n",
            "  . Unigramas mais correlacionados:\n",
            ". infps\n",
            ". infp\n",
            "  . Bigramas mais correlacionados:\n",
            ". fellow infp\n",
            ". know infp\n",
            "__________________________________________\n",
            "\n",
            "# 'INTJ':\n",
            "  . Unigramas mais correlacionados:\n",
            ". intj\n",
            ". intjs\n",
            "  . Bigramas mais correlacionados:\n",
            ". fellow intj\n",
            ". type intj\n",
            "__________________________________________\n",
            "\n",
            "# 'INTP':\n",
            "  . Unigramas mais correlacionados:\n",
            ". intps\n",
            ". intp\n",
            "  . Bigramas mais correlacionados:\n",
            ". know intp\n",
            ". intp forum\n",
            "__________________________________________\n",
            "\n",
            "# 'ISFJ':\n",
            "  . Unigramas mais correlacionados:\n",
            ". isfj\n",
            ". isfjs\n",
            "  . Bigramas mais correlacionados:\n",
            ". isfj forum\n",
            ". fellow isfj\n",
            "__________________________________________\n",
            "\n",
            "# 'ISFP':\n",
            "  . Unigramas mais correlacionados:\n",
            ". isfps\n",
            ". isfp\n",
            "  . Bigramas mais correlacionados:\n",
            ". isfp thing\n",
            ". know isfp\n",
            "__________________________________________\n",
            "\n",
            "# 'ISTJ':\n",
            "  . Unigramas mais correlacionados:\n",
            ". niss\n",
            ". rave\n",
            "  . Bigramas mais correlacionados:\n",
            ". mbti enthusiast\n",
            ". type istj\n",
            "__________________________________________\n",
            "\n",
            "# 'ISTP':\n",
            "  . Unigramas mais correlacionados:\n",
            ". istps\n",
            ". istp\n",
            "  . Bigramas mais correlacionados:\n",
            ". istp forum\n",
            ". istp thing\n",
            "__________________________________________\n",
            "\n"
          ]
        }
      ],
      "source": [
        "N = 2\n",
        "for type, type_id in sorted(type_to_id.items()):\n",
        "  features_chi2 = chi2(features, labels == type_id)\n",
        "  indices = np.argsort(features_chi2[0])\n",
        "  # feature_names = np.array(tfidf.get_feature_names())[indices]\n",
        "  feature_names = np.array(tfidf.get_feature_names_out())[indices]\n",
        "  unigramas = [v for v in feature_names if len(v.split(' ')) == 1]\n",
        "  bigramas = [v for v in feature_names if len(v.split(' ')) == 2]\n",
        "  print(\"# '{}':\".format(type))\n",
        "  print(\"  . Unigramas mais correlacionados:\\n. {}\".format('\\n. '.join(unigramas[-N:])))\n",
        "  print(\"  . Bigramas mais correlacionados:\\n. {}\".format('\\n. '.join(bigramas[-N:])))\n",
        "  print(\"__________________________________________\\n\")"
      ]
    },
    {
      "cell_type": "markdown",
      "metadata": {
        "id": "_kRnSDSINP5v"
      },
      "source": [
        "To Do: Treinar e testar"
      ]
    },
    {
      "cell_type": "markdown",
      "metadata": {
        "id": "kSeemK5sNURV"
      },
      "source": [
        "To Do: Criar entrada de texto e submeter para a IA"
      ]
    }
  ],
  "metadata": {
    "colab": {
      "authorship_tag": "ABX9TyMk5uq0pvlKw03lfL8AJGdF",
      "include_colab_link": true,
      "mount_file_id": "1pegWEQA7wnqXri68KhNV-951gfF8leSg",
      "name": "projeto_ml.ipynb",
      "provenance": [],
      "toc_visible": true
    },
    "gpuClass": "standard",
    "kernelspec": {
      "display_name": "Python 3.10.6 64-bit (windows store)",
      "language": "python",
      "name": "python3"
    },
    "language_info": {
      "codemirror_mode": {
        "name": "ipython",
        "version": 3
      },
      "file_extension": ".py",
      "mimetype": "text/x-python",
      "name": "python",
      "nbconvert_exporter": "python",
      "pygments_lexer": "ipython3",
      "version": "3.10.6"
    },
    "vscode": {
      "interpreter": {
        "hash": "624741679a3ae5d99cecf49b8df5d516a7a937e6e7328e129d1fa121c8592e26"
      }
    }
  },
  "nbformat": 4,
  "nbformat_minor": 0
}
