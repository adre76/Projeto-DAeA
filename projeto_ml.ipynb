{
  "nbformat": 4,
  "nbformat_minor": 0,
  "metadata": {
    "colab": {
      "name": "projeto_ml.ipynb",
      "provenance": [],
      "toc_visible": true,
      "mount_file_id": "1pegWEQA7wnqXri68KhNV-951gfF8leSg",
      "authorship_tag": "ABX9TyNk1OoR4I3j8Z5DkMnzsP0f",
      "include_colab_link": true
    },
    "kernelspec": {
      "name": "python3",
      "display_name": "Python 3"
    },
    "language_info": {
      "name": "python"
    },
    "gpuClass": "standard"
  },
  "cells": [
    {
      "cell_type": "markdown",
      "metadata": {
        "id": "view-in-github",
        "colab_type": "text"
      },
      "source": [
        "<a href=\"https://colab.research.google.com/github/adre76/Projeto-DAeA/blob/main/projeto_ml.ipynb\" target=\"_parent\"><img src=\"https://colab.research.google.com/assets/colab-badge.svg\" alt=\"Open In Colab\"/></a>"
      ]
    },
    {
      "cell_type": "markdown",
      "source": [
        "Importando bibliotecas"
      ],
      "metadata": {
        "id": "9qkYO1DgFTFL"
      }
    },
    {
      "cell_type": "code",
      "execution_count": 1,
      "metadata": {
        "id": "Q1m7CB97EhYJ"
      },
      "outputs": [],
      "source": [
        "import pandas as pd\n",
        "import numpy as np\n",
        "import matplotlib.pyplot as plt\n",
        "from sklearn.feature_extraction.text import TfidfVectorizer\n",
        "from sklearn.feature_selection import chi2"
      ]
    },
    {
      "cell_type": "markdown",
      "source": [
        "Carregando o dataset de machine learning"
      ],
      "metadata": {
        "id": "A7oCVeaUFYzE"
      }
    },
    {
      "cell_type": "code",
      "source": [
        "dados = pd.read_csv('/content/drive/MyDrive/Colab Notebooks/Datasets/mbti.csv')\n",
        "dados.columns = ['type', 'posts']"
      ],
      "metadata": {
        "id": "WuJZpQdkFW_R"
      },
      "execution_count": 2,
      "outputs": []
    },
    {
      "cell_type": "markdown",
      "source": [
        "Gráfico com a contagem de tipos MBTI no dataset"
      ],
      "metadata": {
        "id": "aFKcvSTg0tpp"
      }
    },
    {
      "cell_type": "code",
      "source": [
        "dados.groupby('type').posts.count().plot.bar()\n",
        "plt.show()"
      ],
      "metadata": {
        "colab": {
          "base_uri": "https://localhost:8080/",
          "height": 295
        },
        "id": "5qimex-X0yQx",
        "outputId": "3ed7f70a-1d0e-45c5-eb4f-1e1abc764160"
      },
      "execution_count": 3,
      "outputs": [
        {
          "output_type": "display_data",
          "data": {
            "text/plain": [
              "<Figure size 432x288 with 1 Axes>"
            ],
            "image/png": "[encoded data removed]"
          },
          "metadata": {
            "needs_background": "light"
          }
        }
      ]
    },
    {
      "cell_type": "markdown",
      "source": [
        "Criando a coluna de ID dos tipos de código MBTI"
      ],
      "metadata": {
        "id": "MKt2bVKfDq7S"
      }
    },
    {
      "cell_type": "code",
      "source": [
        "dados['type_id'] = dados['type'].factorize()[0]\n",
        "type_id_df = dados[['type', 'type_id']].drop_duplicates().sort_values('type_id')\n",
        "type_to_id = dict(type_id_df.values)\n",
        "id_to_type = dict(type_id_df[['type_id', 'type']].values)\n",
        "labels = dados.type_id"
      ],
      "metadata": {
        "id": "0mlXaVvYrHCT"
      },
      "execution_count": 4,
      "outputs": []
    },
    {
      "cell_type": "markdown",
      "source": [
        "Separando o dataset para o aprendizado"
      ],
      "metadata": {
        "id": "Cr1wot8KBGoC"
      }
    },
    {
      "cell_type": "code",
      "source": [
        "posts = dados[\"posts\"]\n",
        "classificacoes = dados[\"type\"]"
      ],
      "metadata": {
        "id": "fkscjVSBFwk5"
      },
      "execution_count": 5,
      "outputs": []
    },
    {
      "cell_type": "markdown",
      "source": [
        "Parametrizando a função de aprendizado de texto do SKLearn e executando o aprendizado de texto."
      ],
      "metadata": {
        "id": "aBH-Ee7ZBJ4L"
      }
    },
    {
      "cell_type": "code",
      "source": [
        "tfidf = TfidfVectorizer(sublinear_tf=True, min_df=5, norm='l2', encoding='latin-1', ngram_range=(1, 2), stop_words='english')"
      ],
      "metadata": {
        "id": "toSF1cN9BNjI"
      },
      "execution_count": 6,
      "outputs": []
    },
    {
      "cell_type": "code",
      "source": [
        "  features = tfidf.fit_transform(posts).toarray()\n",
        "features.shape"
      ],
      "metadata": {
        "colab": {
          "base_uri": "https://localhost:8080/"
        },
        "id": "xY6EKVPoBNCC",
        "outputId": "ecdb719e-ab69-47ba-8856-97dce62703fb"
      },
      "execution_count": 7,
      "outputs": [
        {
          "output_type": "execute_result",
          "data": {
            "text/plain": [
              "(8675, 149867)"
            ]
          },
          "metadata": {},
          "execution_count": 7
        }
      ]
    },
    {
      "cell_type": "markdown",
      "source": [
        "Agora, cada uma das 8675 narrativas é representada por 149867 recursos, representando a pontuação tf-idf para diferentes unigramas e bigramas."
      ],
      "metadata": {
        "id": "Vr-JjKiQCS_f"
      }
    },
    {
      "cell_type": "markdown",
      "source": [
        "Usando sklearn.feature_selection.chi2 para encontrar os termos que estão mais correlacionados com cada classificação MBTI:"
      ],
      "metadata": {
        "id": "jKYk-MLlDppc"
      }
    },
    {
      "cell_type": "code",
      "source": [
        "N = 2\n",
        "for type, type_id in sorted(type_to_id.items()):\n",
        "  features_chi2 = chi2(features, labels == type_id)\n",
        "  indices = np.argsort(features_chi2[0])\n",
        "  feature_names = np.array(tfidf.get_feature_names())[indices]\n",
        "  unigramas = [v for v in feature_names if len(v.split(' ')) == 1]\n",
        "  bigramas = [v for v in feature_names if len(v.split(' ')) == 2]\n",
        "  print(\"# '{}':\".format(type))\n",
        "  print(\"  . Unigramas mais correlacionados:\\n. {}\".format('\\n. '.join(unigramas[-N:])))\n",
        "  print(\"  . Bigramas mais correlacionados:\\n. {}\".format('\\n. '.join(bigramas[-N:])))"
      ],
      "metadata": {
        "id": "5s8jh8f9Cdf2"
      },
      "execution_count": null,
      "outputs": []
    },
    {
      "cell_type": "markdown",
      "source": [
        "Treinar e testar"
      ],
      "metadata": {
        "id": "_kRnSDSINP5v"
      }
    },
    {
      "cell_type": "markdown",
      "source": [
        "Criar entrada de texto e submeter para a IA"
      ],
      "metadata": {
        "id": "kSeemK5sNURV"
      }
    }
  ]
}