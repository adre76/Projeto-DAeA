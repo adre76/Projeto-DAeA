{
 "cells": [
  {
   "cell_type": "markdown",
   "metadata": {},
   "source": [
    "IMPORTANDO BIBLIOTECAS"
   ]
  },
  {
   "cell_type": "code",
   "execution_count": 3,
   "metadata": {},
   "outputs": [],
   "source": [
    "from sqlalchemy import create_engine\n",
    "from urllib import parse\n",
    "import psycopg2, io, os, sys, warnings, shutil, errno\n",
    "import pandas as pd"
   ]
  },
  {
   "cell_type": "markdown",
   "metadata": {},
   "source": [
    "PARAMETRIZAÇÃO DA CONEXÃO COM O BANCO DE DADOS"
   ]
  },
  {
   "cell_type": "code",
   "execution_count": null,
   "metadata": {},
   "outputs": [],
   "source": [
    "engine = create_engine(\n",
    "  'postgresql+psycopg2://{username}:{password}@{host}:{port}/{database}'.format(\n",
    "    username='tsmdash',\n",
    "    password=parse.quote('@75m4dm1n'),\n",
    "    host='tsmdash.rjo.serpro',\n",
    "    port='5432',\n",
    "    database='tsmdash',\n",
    "  )\n",
    ")"
   ]
  },
  {
   "cell_type": "markdown",
   "metadata": {},
   "source": [
    "PARAMETRIZAÇÃO DA APLICAÇÃO"
   ]
  },
  {
   "cell_type": "code",
   "execution_count": null,
   "metadata": {},
   "outputs": [],
   "source": [
    "################################################################\n",
    "# basedirwin = 'D:\\\\Git\\\\IBMEC\\\\Projeto-DAeA\\\\Dataset\\\\CSVS\\\\' # PC\n",
    "# fonte = 'D:\\\\Git\\\\IBMEC\\\\Projeto-DAeA\\\\CSVS\\\\' # PC\n",
    "#################################################################\n",
    "# basedirwin = 'C:\\\\Git\\\\Projeto-DAeA\\\\Dataset\\\\CSVS\\\\' #Notebook\n",
    "# fonte = 'C:\\\\Git\\\\Projeto-DAeA\\\\CSVS\\\\' # Notebook\n",
    "#################################################################\n",
    "basedirwin = '/var/www/html/tsm-dashboard2/backup/' #Trabalho\n",
    "fonte = '/var/www/html/tsm-dashboard2/backup_fonte/' #Trabalho\n",
    "#################################################################\n",
    "warnings.simplefilter(action='ignore', category=FutureWarning)"
   ]
  },
  {
   "cell_type": "markdown",
   "metadata": {},
   "source": [
    "REMOVE CSVs VELHOS E COPIA OS NOVOS"
   ]
  },
  {
   "cell_type": "code",
   "execution_count": null,
   "metadata": {},
   "outputs": [],
   "source": [
    "if os.path.exists(basedirwin):\n",
    "    shutil.rmtree(basedirwin)\n",
    "else:\n",
    "    sys.exit(\"Erro ao apagar o diretório de CSVs antigos. Não encontrado.\")\n",
    "\n",
    "try:\n",
    "    shutil.copytree(fonte, basedirwin, dirs_exist_ok=True)\n",
    "except OSError as err:\n",
    "    sys.exit(\"Erro copiando a pasta de CSVs novos: % s\" % err)"
   ]
  },
  {
   "cell_type": "markdown",
   "metadata": {},
   "source": [
    "GERANDO LISTA DE PASTAS"
   ]
  },
  {
   "cell_type": "code",
   "execution_count": null,
   "metadata": {},
   "outputs": [],
   "source": [
    "try:\n",
    "    listadir = os.listdir(basedirwin)\n",
    "except OSError as err:\n",
    "    if err.errno == errno.ENOENT:\n",
    "        sys.exit(\"Erro listando o diretório de CSVs fonte: % s\" % err)"
   ]
  },
  {
   "cell_type": "markdown",
   "metadata": {},
   "source": [
    "FORMATANDO O ARQUIVO DE PARTIÇÕES"
   ]
  },
  {
   "cell_type": "code",
   "execution_count": null,
   "metadata": {},
   "outputs": [],
   "source": [
    "for dir in listadir:\n",
    "    with open(basedirwin + dir + '/particoes.csv', 'r+') as file:\n",
    "        espaco = file.readlines()\n",
    "        for ln in espaco:\n",
    "            file.seek(espaco.index(ln))\n",
    "            dir2 = dir[6:8] + dir[4:6] + dir[0:4]\n",
    "            ln2 = ln[:-1] + \",\" + dir2 + \"\\n\"\n",
    "            with open(basedirwin + dir + '/particoes2.csv', 'a') as fileNovo:\n",
    "                fileNovo.write(ln2)\n",
    "            fileNovo.close()\n",
    "    file.close()\n",
    "    os.remove(basedirwin + dir + '/particoes.csv')\n",
    "    os.rename(basedirwin + dir + '/particoes2.csv', basedirwin + dir + '/particoes.csv')"
   ]
  },
  {
   "cell_type": "markdown",
   "metadata": {},
   "source": [
    "CARREGANDO OS DADOS DE BACKUP NO BANCO DE DADOS"
   ]
  },
  {
   "cell_type": "code",
   "execution_count": null,
   "metadata": {},
   "outputs": [],
   "source": [
    "df_bkp = pd.DataFrame()\n",
    "for dir in listadir:\n",
    "    df_bkp = df_bkp.append(pd.read_csv(basedirwin + dir + '/coletas.csv', header=None))\n",
    "df_bkp.columns = ['nodename', 'datainicio', 'status', 'result', 'datafim', 'server']\n",
    "df_bkp.head(0).to_sql('evnts', engine, if_exists='append',index=False)\n",
    "conn = engine.raw_connection()\n",
    "cur = conn.cursor()\n",
    "output = io.StringIO()\n",
    "df_bkp.to_csv(output, sep='\\t', header=False, index=False)\n",
    "output.seek(0)\n",
    "contents = output.getvalue()\n",
    "cur.copy_from(output, 'evnts', null=\"\")\n",
    "conn.commit()\n",
    "conn.close()"
   ]
  },
  {
   "cell_type": "markdown",
   "metadata": {},
   "source": [
    "CARREGANDO OS DADOS DE ESPAÇO EM DISCO DAS PARTIÇÕES NO BANCO DE DADOS"
   ]
  },
  {
   "cell_type": "code",
   "execution_count": null,
   "metadata": {},
   "outputs": [],
   "source": [
    "df_vol = pd.DataFrame()\n",
    "for dir in listadir:\n",
    "    df_vol = df_vol.append(pd.read_csv(basedirwin + dir + '/particoes.csv', header=None))\n",
    "df_vol.columns = ['particao', 'total', 'usado', 'livre', 'porcentagem', 'server', 'data']\n",
    "df_vol.head(0).to_sql('espaco', engine, if_exists='append',index=False)\n",
    "conn = engine.raw_connection()\n",
    "cur = conn.cursor()\n",
    "output = io.StringIO()\n",
    "df_vol.to_csv(output, sep='\\t', header=False, index=False)\n",
    "output.seek(0)\n",
    "contents = output.getvalue()\n",
    "cur.copy_from(output, 'espaco', null=\"\")\n",
    "conn.commit()\n",
    "conn.close()"
   ]
  }
 ],
 "metadata": {
  "kernelspec": {
   "display_name": "Python 3.10.6 64-bit (windows store)",
   "language": "python",
   "name": "python3"
  },
  "language_info": {
   "codemirror_mode": {
    "name": "ipython",
    "version": 3
   },
   "file_extension": ".py",
   "mimetype": "text/x-python",
   "name": "python",
   "nbconvert_exporter": "python",
   "pygments_lexer": "ipython3",
   "version": "3.10.6"
  },
  "orig_nbformat": 4,
  "vscode": {
   "interpreter": {
    "hash": "624741679a3ae5d99cecf49b8df5d516a7a937e6e7328e129d1fa121c8592e26"
   }
  }
 },
 "nbformat": 4,
 "nbformat_minor": 2
}
