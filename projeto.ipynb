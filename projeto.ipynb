{
 "cells": [
  {
   "cell_type": "markdown",
   "metadata": {},
   "source": [
    "IMPORTANDO BIBLIOTECAS"
   ]
  },
  {
   "cell_type": "code",
   "execution_count": 1,
   "metadata": {},
   "outputs": [],
   "source": [
    "import os, shutil, sys, warnings\n",
    "import errno\n",
    "import pandas as pd\n",
    "import seaborn as sns"
   ]
  },
  {
   "cell_type": "markdown",
   "metadata": {},
   "source": [
    "PARAMETRIZAÇÃO DA APLICAÇÃO"
   ]
  },
  {
   "cell_type": "code",
   "execution_count": 2,
   "metadata": {},
   "outputs": [],
   "source": [
    "basedirwin = 'D:\\\\Git\\\\IBMEC\\\\Projeto-DAeA\\\\Dataset\\\\CSVS\\\\'\n",
    "warnings.simplefilter(action='ignore', category=FutureWarning)"
   ]
  },
  {
   "cell_type": "markdown",
   "metadata": {},
   "source": [
    "REMOVE CSVs VELHOS E COPIA OS NOVOS"
   ]
  },
  {
   "cell_type": "code",
   "execution_count": 3,
   "metadata": {},
   "outputs": [],
   "source": [
    "if os.path.exists(basedirwin):\n",
    "    shutil.rmtree(basedirwin)\n",
    "else:\n",
    "    sys.exit(\"Erro ao apagar o diretório de CSVs antigos. Não encontrado.\")\n",
    "\n",
    "try:\n",
    "    shutil.copytree('D:\\\\Git\\\\IBMEC\\\\Projeto-DAeA\\\\CSVS\\\\', 'D:\\\\Git\\\\IBMEC\\\\Projeto-DAeA\\\\Dataset\\\\CSVS\\\\', dirs_exist_ok=True)\n",
    "except OSError as err:\n",
    "    sys.exit(\"Erro copiando a pasta de CSVs novos: % s\" % err)"
   ]
  },
  {
   "cell_type": "markdown",
   "metadata": {},
   "source": [
    "VARIÁVEIS DE AMBIENTE"
   ]
  },
  {
   "cell_type": "code",
   "execution_count": 4,
   "metadata": {},
   "outputs": [],
   "source": [
    "try:\n",
    "    listadir = os.listdir(basedirwin)\n",
    "except OSError as err:\n",
    "    if err.errno == errno.ENOENT:\n",
    "        sys.exit(\"Erro listando o diretório de CSVs fonte: % s\" % err)"
   ]
  },
  {
   "cell_type": "markdown",
   "metadata": {},
   "source": [
    "FORMATANDO O ARQUIVO DE VOLUMES"
   ]
  },
  {
   "cell_type": "code",
   "execution_count": 5,
   "metadata": {},
   "outputs": [],
   "source": [
    "for dir in listadir:\n",
    "    with open(basedirwin + dir + '\\\\particoes.csv', 'r+') as file:\n",
    "        espaco = file.readlines()\n",
    "        for ln in espaco:\n",
    "            file.seek(espaco.index(ln))\n",
    "            dir2 = dir[0:4] + \"/\" + dir[4:6] + \"/\" + dir[6:8]\n",
    "            ln2 = ln[:-1] + \",\" + dir2 + \"\\n\"\n",
    "            with open(basedirwin + dir + '\\\\particoes2.csv', 'a') as fileNovo:\n",
    "                fileNovo.write(ln2)\n",
    "            fileNovo.close()\n",
    "    file.close()\n",
    "    os.remove(basedirwin + dir + '\\\\particoes.csv')\n",
    "    os.rename(basedirwin + dir + '\\\\particoes2.csv', basedirwin + dir + '\\\\particoes.csv')"
   ]
  },
  {
   "cell_type": "markdown",
   "metadata": {},
   "source": [
    "CARREGANDO OS DADOS DE BACKUP NO DATASET"
   ]
  },
  {
   "cell_type": "code",
   "execution_count": 6,
   "metadata": {},
   "outputs": [
    {
     "data": {
      "text/html": [
       "<div>\n",
       "<style scoped>\n",
       "    .dataframe tbody tr th:only-of-type {\n",
       "        vertical-align: middle;\n",
       "    }\n",
       "\n",
       "    .dataframe tbody tr th {\n",
       "        vertical-align: top;\n",
       "    }\n",
       "\n",
       "    .dataframe thead th {\n",
       "        text-align: right;\n",
       "    }\n",
       "</style>\n",
       "<table border=\"1\" class=\"dataframe\">\n",
       "  <thead>\n",
       "    <tr style=\"text-align: right;\">\n",
       "      <th></th>\n",
       "      <th>nodename</th>\n",
       "      <th>datainicio</th>\n",
       "      <th>status</th>\n",
       "      <th>result</th>\n",
       "      <th>datafim</th>\n",
       "      <th>server</th>\n",
       "    </tr>\n",
       "  </thead>\n",
       "  <tbody>\n",
       "    <tr>\n",
       "      <th>0</th>\n",
       "      <td>MG_SERPRO_BHE_MGBHESERVD305_MENSAL</td>\n",
       "      <td>2022/03/26</td>\n",
       "      <td>Completed</td>\n",
       "      <td>4.0</td>\n",
       "      <td>2022-03-26</td>\n",
       "      <td>TSM_OPBHE</td>\n",
       "    </tr>\n",
       "    <tr>\n",
       "      <th>1</th>\n",
       "      <td>MG_SERPRO_BHE_MGBHESERVD093_MENSAL</td>\n",
       "      <td>2022/03/26</td>\n",
       "      <td>Completed</td>\n",
       "      <td>8.0</td>\n",
       "      <td>2022-03-26</td>\n",
       "      <td>TSM_OPBHE</td>\n",
       "    </tr>\n",
       "    <tr>\n",
       "      <th>2</th>\n",
       "      <td>MG_SERPRO_BHE_MGBHESERVD187_MENSAL</td>\n",
       "      <td>2022/03/26</td>\n",
       "      <td>Completed</td>\n",
       "      <td>0.0</td>\n",
       "      <td>2022-03-26</td>\n",
       "      <td>TSM_OPBHE</td>\n",
       "    </tr>\n",
       "    <tr>\n",
       "      <th>3</th>\n",
       "      <td>MG_SERPRO_BHE_MGBHESERVP240_MENSAL</td>\n",
       "      <td>2022/03/26</td>\n",
       "      <td>Completed</td>\n",
       "      <td>0.0</td>\n",
       "      <td>2022-03-27</td>\n",
       "      <td>TSM_OPBHE</td>\n",
       "    </tr>\n",
       "    <tr>\n",
       "      <th>4</th>\n",
       "      <td>MG_SERPRO_BHE_SERVICOSRL_MENSAL</td>\n",
       "      <td>2022/03/26</td>\n",
       "      <td>Completed</td>\n",
       "      <td>0.0</td>\n",
       "      <td>2022-03-26</td>\n",
       "      <td>TSM_OPBHE</td>\n",
       "    </tr>\n",
       "  </tbody>\n",
       "</table>\n",
       "</div>"
      ],
      "text/plain": [
       "                             nodename  datainicio     status  result  \\\n",
       "0  MG_SERPRO_BHE_MGBHESERVD305_MENSAL  2022/03/26  Completed     4.0   \n",
       "1  MG_SERPRO_BHE_MGBHESERVD093_MENSAL  2022/03/26  Completed     8.0   \n",
       "2  MG_SERPRO_BHE_MGBHESERVD187_MENSAL  2022/03/26  Completed     0.0   \n",
       "3  MG_SERPRO_BHE_MGBHESERVP240_MENSAL  2022/03/26  Completed     0.0   \n",
       "4     MG_SERPRO_BHE_SERVICOSRL_MENSAL  2022/03/26  Completed     0.0   \n",
       "\n",
       "     datafim     server  \n",
       "0 2022-03-26  TSM_OPBHE  \n",
       "1 2022-03-26  TSM_OPBHE  \n",
       "2 2022-03-26  TSM_OPBHE  \n",
       "3 2022-03-27  TSM_OPBHE  \n",
       "4 2022-03-26  TSM_OPBHE  "
      ]
     },
     "execution_count": 6,
     "metadata": {},
     "output_type": "execute_result"
    }
   ],
   "source": [
    "df_bkp = pd.DataFrame()\n",
    "for dir in listadir:\n",
    "    df_bkp = df_bkp.append(pd.read_csv(basedirwin + dir + '\\\\coletas.csv', header=None))\n",
    "    # df_bkp = df_bkp.concat(pd.read_csv(basedirwin + dir + '\\\\coletas.csv'), ignore_index=True)\n",
    "df_bkp.columns = ['nodename', 'datainicio', 'status', 'result', 'datafim', 'server']\n",
    "df_bkp['datafim'] = df_bkp['datafim'].astype('datetime64[ns]')\n",
    "# df_bkp.head()"
   ]
  },
  {
   "cell_type": "markdown",
   "metadata": {},
   "source": [
    "CARREGANDO OS DADOS DE VOLUME NO DATASET"
   ]
  },
  {
   "cell_type": "code",
   "execution_count": 7,
   "metadata": {},
   "outputs": [
    {
     "data": {
      "text/html": [
       "<div>\n",
       "<style scoped>\n",
       "    .dataframe tbody tr th:only-of-type {\n",
       "        vertical-align: middle;\n",
       "    }\n",
       "\n",
       "    .dataframe tbody tr th {\n",
       "        vertical-align: top;\n",
       "    }\n",
       "\n",
       "    .dataframe thead th {\n",
       "        text-align: right;\n",
       "    }\n",
       "</style>\n",
       "<table border=\"1\" class=\"dataframe\">\n",
       "  <thead>\n",
       "    <tr style=\"text-align: right;\">\n",
       "      <th></th>\n",
       "      <th>particao</th>\n",
       "      <th>total</th>\n",
       "      <th>usado</th>\n",
       "      <th>livre</th>\n",
       "      <th>porcentagem</th>\n",
       "      <th>server</th>\n",
       "      <th>data</th>\n",
       "    </tr>\n",
       "  </thead>\n",
       "  <tbody>\n",
       "    <tr>\n",
       "      <th>0</th>\n",
       "      <td>/tsm_fpool</td>\n",
       "      <td>3.7T</td>\n",
       "      <td>2.3T</td>\n",
       "      <td>1.4T</td>\n",
       "      <td>64%</td>\n",
       "      <td>TSM_OPBHE</td>\n",
       "      <td>2022-03-28</td>\n",
       "    </tr>\n",
       "    <tr>\n",
       "      <th>1</th>\n",
       "      <td>/tsm_archivelog</td>\n",
       "      <td>838G</td>\n",
       "      <td>598G</td>\n",
       "      <td>241G</td>\n",
       "      <td>72%</td>\n",
       "      <td>TSM_OPBHE</td>\n",
       "      <td>2022-03-28</td>\n",
       "    </tr>\n",
       "    <tr>\n",
       "      <th>2</th>\n",
       "      <td>/tsm_backup_db</td>\n",
       "      <td>559G</td>\n",
       "      <td>129G</td>\n",
       "      <td>430G</td>\n",
       "      <td>24%</td>\n",
       "      <td>TSM_OPBHE</td>\n",
       "      <td>2022-03-28</td>\n",
       "    </tr>\n",
       "    <tr>\n",
       "      <th>3</th>\n",
       "      <td>/tsm_fpool_copia</td>\n",
       "      <td>8.1T</td>\n",
       "      <td>6.8T</td>\n",
       "      <td>1.4T</td>\n",
       "      <td>84%</td>\n",
       "      <td>TSM_OPBHE</td>\n",
       "      <td>2022-03-28</td>\n",
       "    </tr>\n",
       "    <tr>\n",
       "      <th>4</th>\n",
       "      <td>/tsm_db</td>\n",
       "      <td>559G</td>\n",
       "      <td>71G</td>\n",
       "      <td>489G</td>\n",
       "      <td>13%</td>\n",
       "      <td>TSM_OPBHE</td>\n",
       "      <td>2022-03-28</td>\n",
       "    </tr>\n",
       "    <tr>\n",
       "      <th>...</th>\n",
       "      <td>...</td>\n",
       "      <td>...</td>\n",
       "      <td>...</td>\n",
       "      <td>...</td>\n",
       "      <td>...</td>\n",
       "      <td>...</td>\n",
       "      <td>...</td>\n",
       "    </tr>\n",
       "    <tr>\n",
       "      <th>29</th>\n",
       "      <td>/tsm_fpool_copia</td>\n",
       "      <td>4.0T</td>\n",
       "      <td>1.9T</td>\n",
       "      <td>2.1T</td>\n",
       "      <td>47%</td>\n",
       "      <td>TSM_OPFLA</td>\n",
       "      <td>2022-03-29</td>\n",
       "    </tr>\n",
       "    <tr>\n",
       "      <th>30</th>\n",
       "      <td>/tsm_fpool</td>\n",
       "      <td>525G</td>\n",
       "      <td>207G</td>\n",
       "      <td>319G</td>\n",
       "      <td>40%</td>\n",
       "      <td>TSM_OPFNS</td>\n",
       "      <td>2022-03-29</td>\n",
       "    </tr>\n",
       "    <tr>\n",
       "      <th>31</th>\n",
       "      <td>/tsm_fpool_copia</td>\n",
       "      <td>1.3T</td>\n",
       "      <td>860G</td>\n",
       "      <td>461G</td>\n",
       "      <td>66%</td>\n",
       "      <td>TSM_OPFNS</td>\n",
       "      <td>2022-03-29</td>\n",
       "    </tr>\n",
       "    <tr>\n",
       "      <th>32</th>\n",
       "      <td>/tsm_backup_db</td>\n",
       "      <td>200G</td>\n",
       "      <td>52G</td>\n",
       "      <td>149G</td>\n",
       "      <td>26%</td>\n",
       "      <td>TSM_OPFNS</td>\n",
       "      <td>2022-03-29</td>\n",
       "    </tr>\n",
       "    <tr>\n",
       "      <th>33</th>\n",
       "      <td>/tsm_activelog</td>\n",
       "      <td>50G</td>\n",
       "      <td>50G</td>\n",
       "      <td>976M</td>\n",
       "      <td>99%</td>\n",
       "      <td>TSM_OPFNS</td>\n",
       "      <td>2022-03-29</td>\n",
       "    </tr>\n",
       "  </tbody>\n",
       "</table>\n",
       "<p>100 rows × 7 columns</p>\n",
       "</div>"
      ],
      "text/plain": [
       "            particao total usado livre porcentagem     server       data\n",
       "0         /tsm_fpool  3.7T  2.3T  1.4T         64%  TSM_OPBHE 2022-03-28\n",
       "1    /tsm_archivelog  838G  598G  241G         72%  TSM_OPBHE 2022-03-28\n",
       "2     /tsm_backup_db  559G  129G  430G         24%  TSM_OPBHE 2022-03-28\n",
       "3   /tsm_fpool_copia  8.1T  6.8T  1.4T         84%  TSM_OPBHE 2022-03-28\n",
       "4            /tsm_db  559G   71G  489G         13%  TSM_OPBHE 2022-03-28\n",
       "..               ...   ...   ...   ...         ...        ...        ...\n",
       "29  /tsm_fpool_copia  4.0T  1.9T  2.1T         47%  TSM_OPFLA 2022-03-29\n",
       "30        /tsm_fpool  525G  207G  319G         40%  TSM_OPFNS 2022-03-29\n",
       "31  /tsm_fpool_copia  1.3T  860G  461G         66%  TSM_OPFNS 2022-03-29\n",
       "32    /tsm_backup_db  200G   52G  149G         26%  TSM_OPFNS 2022-03-29\n",
       "33    /tsm_activelog   50G   50G  976M         99%  TSM_OPFNS 2022-03-29\n",
       "\n",
       "[100 rows x 7 columns]"
      ]
     },
     "execution_count": 7,
     "metadata": {},
     "output_type": "execute_result"
    }
   ],
   "source": [
    "df_vol = pd.DataFrame()\n",
    "for dir in listadir:\n",
    "    df_vol = df_vol.append(pd.read_csv(basedirwin + dir + '\\\\particoes.csv', header=None))\n",
    "df_vol.columns = ['particao', 'total', 'usado', 'livre', 'porcentagem', 'server', 'data']\n",
    "df_vol['data'] = df_vol['data'].astype('datetime64[ns]')\n",
    "# df_vol.head(100)"
   ]
  },
  {
   "cell_type": "markdown",
   "metadata": {},
   "source": [
    "GERANDO DATASETS DE PARTIÇÕES E PORCENTAGEM DE USO POR REGIONAL"
   ]
  },
  {
   "cell_type": "code",
   "execution_count": 9,
   "metadata": {},
   "outputs": [
    {
     "name": "stdout",
     "output_type": "stream",
     "text": [
      "Dados da regionalTSM_OPBHE:\n",
      "\n"
     ]
    },
    {
     "ename": "TypeError",
     "evalue": "unsupported operand type(s) for +: 'DatetimeArray' and 'str'",
     "output_type": "error",
     "traceback": [
      "\u001b[1;31m---------------------------------------------------------------------------\u001b[0m",
      "\u001b[1;31mTypeError\u001b[0m                                 Traceback (most recent call last)",
      "\u001b[1;32md:\\Git\\IBMEC\\Projeto-DAeA\\projeto.ipynb Célula: 16\u001b[0m in \u001b[0;36m<cell line: 6>\u001b[1;34m()\u001b[0m\n\u001b[0;32m      <a href='vscode-notebook-cell:/d%3A/Git/IBMEC/Projeto-DAeA/projeto.ipynb#X21sZmlsZQ%3D%3D?line=7'>8</a>\u001b[0m df_vol_reg \u001b[39m=\u001b[39m df_vol[df_vol_mask]\n\u001b[0;32m      <a href='vscode-notebook-cell:/d%3A/Git/IBMEC/Projeto-DAeA/projeto.ipynb#X21sZmlsZQ%3D%3D?line=8'>9</a>\u001b[0m \u001b[39mprint\u001b[39m(\u001b[39m'\u001b[39m\u001b[39mDados da regional\u001b[39m\u001b[39m'\u001b[39m \u001b[39m+\u001b[39m reg \u001b[39m+\u001b[39m \u001b[39m'\u001b[39m\u001b[39m:\u001b[39m\u001b[39m\\n\u001b[39;00m\u001b[39m'\u001b[39m) \n\u001b[1;32m---> <a href='vscode-notebook-cell:/d%3A/Git/IBMEC/Projeto-DAeA/projeto.ipynb#X21sZmlsZQ%3D%3D?line=9'>10</a>\u001b[0m \u001b[39mprint\u001b[39m(df_vol_reg\u001b[39m.\u001b[39;49mhead(\u001b[39m10\u001b[39;49m) \u001b[39m+\u001b[39;49m \u001b[39m'\u001b[39;49m\u001b[39m\\n\u001b[39;49;00m\u001b[39m'\u001b[39;49m)\n",
      "File \u001b[1;32m~\\AppData\\Local\\Packages\\PythonSoftwareFoundation.Python.3.9_qbz5n2kfra8p0\\LocalCache\\local-packages\\Python39\\site-packages\\pandas\\core\\ops\\common.py:70\u001b[0m, in \u001b[0;36m_unpack_zerodim_and_defer.<locals>.new_method\u001b[1;34m(self, other)\u001b[0m\n\u001b[0;32m     66\u001b[0m             \u001b[39mreturn\u001b[39;00m \u001b[39mNotImplemented\u001b[39m\n\u001b[0;32m     68\u001b[0m other \u001b[39m=\u001b[39m item_from_zerodim(other)\n\u001b[1;32m---> 70\u001b[0m \u001b[39mreturn\u001b[39;00m method(\u001b[39mself\u001b[39;49m, other)\n",
      "File \u001b[1;32m~\\AppData\\Local\\Packages\\PythonSoftwareFoundation.Python.3.9_qbz5n2kfra8p0\\LocalCache\\local-packages\\Python39\\site-packages\\pandas\\core\\arraylike.py:100\u001b[0m, in \u001b[0;36mOpsMixin.__add__\u001b[1;34m(self, other)\u001b[0m\n\u001b[0;32m     98\u001b[0m \u001b[39m@unpack_zerodim_and_defer\u001b[39m(\u001b[39m\"\u001b[39m\u001b[39m__add__\u001b[39m\u001b[39m\"\u001b[39m)\n\u001b[0;32m     99\u001b[0m \u001b[39mdef\u001b[39;00m \u001b[39m__add__\u001b[39m(\u001b[39mself\u001b[39m, other):\n\u001b[1;32m--> 100\u001b[0m     \u001b[39mreturn\u001b[39;00m \u001b[39mself\u001b[39;49m\u001b[39m.\u001b[39;49m_arith_method(other, operator\u001b[39m.\u001b[39;49madd)\n",
      "File \u001b[1;32m~\\AppData\\Local\\Packages\\PythonSoftwareFoundation.Python.3.9_qbz5n2kfra8p0\\LocalCache\\local-packages\\Python39\\site-packages\\pandas\\core\\frame.py:6952\u001b[0m, in \u001b[0;36mDataFrame._arith_method\u001b[1;34m(self, other, op)\u001b[0m\n\u001b[0;32m   6948\u001b[0m other \u001b[39m=\u001b[39m ops\u001b[39m.\u001b[39mmaybe_prepare_scalar_for_op(other, (\u001b[39mself\u001b[39m\u001b[39m.\u001b[39mshape[axis],))\n\u001b[0;32m   6950\u001b[0m \u001b[39mself\u001b[39m, other \u001b[39m=\u001b[39m ops\u001b[39m.\u001b[39malign_method_FRAME(\u001b[39mself\u001b[39m, other, axis, flex\u001b[39m=\u001b[39m\u001b[39mTrue\u001b[39;00m, level\u001b[39m=\u001b[39m\u001b[39mNone\u001b[39;00m)\n\u001b[1;32m-> 6952\u001b[0m new_data \u001b[39m=\u001b[39m \u001b[39mself\u001b[39;49m\u001b[39m.\u001b[39;49m_dispatch_frame_op(other, op, axis\u001b[39m=\u001b[39;49maxis)\n\u001b[0;32m   6953\u001b[0m \u001b[39mreturn\u001b[39;00m \u001b[39mself\u001b[39m\u001b[39m.\u001b[39m_construct_result(new_data)\n",
      "File \u001b[1;32m~\\AppData\\Local\\Packages\\PythonSoftwareFoundation.Python.3.9_qbz5n2kfra8p0\\LocalCache\\local-packages\\Python39\\site-packages\\pandas\\core\\frame.py:6979\u001b[0m, in \u001b[0;36mDataFrame._dispatch_frame_op\u001b[1;34m(self, right, func, axis)\u001b[0m\n\u001b[0;32m   6976\u001b[0m \u001b[39mif\u001b[39;00m \u001b[39mnot\u001b[39;00m is_list_like(right):\n\u001b[0;32m   6977\u001b[0m     \u001b[39m# i.e. scalar, faster than checking np.ndim(right) == 0\u001b[39;00m\n\u001b[0;32m   6978\u001b[0m     \u001b[39mwith\u001b[39;00m np\u001b[39m.\u001b[39merrstate(\u001b[39mall\u001b[39m\u001b[39m=\u001b[39m\u001b[39m\"\u001b[39m\u001b[39mignore\u001b[39m\u001b[39m\"\u001b[39m):\n\u001b[1;32m-> 6979\u001b[0m         bm \u001b[39m=\u001b[39m \u001b[39mself\u001b[39;49m\u001b[39m.\u001b[39;49m_mgr\u001b[39m.\u001b[39;49mapply(array_op, right\u001b[39m=\u001b[39;49mright)\n\u001b[0;32m   6980\u001b[0m     \u001b[39mreturn\u001b[39;00m \u001b[39mself\u001b[39m\u001b[39m.\u001b[39m_constructor(bm)\n\u001b[0;32m   6982\u001b[0m \u001b[39melif\u001b[39;00m \u001b[39misinstance\u001b[39m(right, DataFrame):\n",
      "File \u001b[1;32m~\\AppData\\Local\\Packages\\PythonSoftwareFoundation.Python.3.9_qbz5n2kfra8p0\\LocalCache\\local-packages\\Python39\\site-packages\\pandas\\core\\internals\\managers.py:302\u001b[0m, in \u001b[0;36mBaseBlockManager.apply\u001b[1;34m(self, f, align_keys, ignore_failures, **kwargs)\u001b[0m\n\u001b[0;32m    300\u001b[0m \u001b[39mtry\u001b[39;00m:\n\u001b[0;32m    301\u001b[0m     \u001b[39mif\u001b[39;00m callable(f):\n\u001b[1;32m--> 302\u001b[0m         applied \u001b[39m=\u001b[39m b\u001b[39m.\u001b[39mapply(f, \u001b[39m*\u001b[39m\u001b[39m*\u001b[39mkwargs)\n\u001b[0;32m    303\u001b[0m     \u001b[39melse\u001b[39;00m:\n\u001b[0;32m    304\u001b[0m         applied \u001b[39m=\u001b[39m \u001b[39mgetattr\u001b[39m(b, f)(\u001b[39m*\u001b[39m\u001b[39m*\u001b[39mkwargs)\n",
      "File \u001b[1;32m~\\AppData\\Local\\Packages\\PythonSoftwareFoundation.Python.3.9_qbz5n2kfra8p0\\LocalCache\\local-packages\\Python39\\site-packages\\pandas\\core\\internals\\blocks.py:402\u001b[0m, in \u001b[0;36mBlock.apply\u001b[1;34m(self, func, **kwargs)\u001b[0m\n\u001b[0;32m    396\u001b[0m \u001b[39m@final\u001b[39m\n\u001b[0;32m    397\u001b[0m \u001b[39mdef\u001b[39;00m \u001b[39mapply\u001b[39m(\u001b[39mself\u001b[39m, func, \u001b[39m*\u001b[39m\u001b[39m*\u001b[39mkwargs) \u001b[39m-\u001b[39m\u001b[39m>\u001b[39m \u001b[39mlist\u001b[39m[Block]:\n\u001b[0;32m    398\u001b[0m     \u001b[39m\"\"\"\u001b[39;00m\n\u001b[0;32m    399\u001b[0m \u001b[39m    apply the function to my values; return a block if we are not\u001b[39;00m\n\u001b[0;32m    400\u001b[0m \u001b[39m    one\u001b[39;00m\n\u001b[0;32m    401\u001b[0m \u001b[39m    \"\"\"\u001b[39;00m\n\u001b[1;32m--> 402\u001b[0m     result \u001b[39m=\u001b[39m func(\u001b[39mself\u001b[39m\u001b[39m.\u001b[39mvalues, \u001b[39m*\u001b[39m\u001b[39m*\u001b[39mkwargs)\n\u001b[0;32m    404\u001b[0m     \u001b[39mreturn\u001b[39;00m \u001b[39mself\u001b[39m\u001b[39m.\u001b[39m_split_op_result(result)\n",
      "File \u001b[1;32m~\\AppData\\Local\\Packages\\PythonSoftwareFoundation.Python.3.9_qbz5n2kfra8p0\\LocalCache\\local-packages\\Python39\\site-packages\\pandas\\core\\ops\\array_ops.py:216\u001b[0m, in \u001b[0;36marithmetic_op\u001b[1;34m(left, right, op)\u001b[0m\n\u001b[0;32m    203\u001b[0m \u001b[39m# NB: We assume that extract_array and ensure_wrapped_if_datetimelike\u001b[39;00m\n\u001b[0;32m    204\u001b[0m \u001b[39m#  have already been called on `left` and `right`,\u001b[39;00m\n\u001b[0;32m    205\u001b[0m \u001b[39m#  and `maybe_prepare_scalar_for_op` has already been called on `right`\u001b[39;00m\n\u001b[0;32m    206\u001b[0m \u001b[39m# We need to special-case datetime64/timedelta64 dtypes (e.g. because numpy\u001b[39;00m\n\u001b[0;32m    207\u001b[0m \u001b[39m# casts integer dtypes to timedelta64 when operating with timedelta64 - GH#22390)\u001b[39;00m\n\u001b[0;32m    209\u001b[0m \u001b[39mif\u001b[39;00m (\n\u001b[0;32m    210\u001b[0m     should_extension_dispatch(left, right)\n\u001b[0;32m    211\u001b[0m     \u001b[39mor\u001b[39;00m \u001b[39misinstance\u001b[39m(right, (Timedelta, BaseOffset, Timestamp))\n\u001b[1;32m   (...)\u001b[0m\n\u001b[0;32m    214\u001b[0m     \u001b[39m# Timedelta/Timestamp and other custom scalars are included in the check\u001b[39;00m\n\u001b[0;32m    215\u001b[0m     \u001b[39m# because numexpr will fail on it, see GH#31457\u001b[39;00m\n\u001b[1;32m--> 216\u001b[0m     res_values \u001b[39m=\u001b[39m op(left, right)\n\u001b[0;32m    217\u001b[0m \u001b[39melse\u001b[39;00m:\n\u001b[0;32m    218\u001b[0m     \u001b[39m# TODO we should handle EAs consistently and move this check before the if/else\u001b[39;00m\n\u001b[0;32m    219\u001b[0m     \u001b[39m# (https://github.com/pandas-dev/pandas/issues/41165)\u001b[39;00m\n\u001b[0;32m    220\u001b[0m     _bool_arith_check(op, left, right)\n",
      "\u001b[1;31mTypeError\u001b[0m: unsupported operand type(s) for +: 'DatetimeArray' and 'str'"
     ]
    }
   ],
   "source": [
    "# Gerar lista de regionais (list_reg)\n",
    "list_reg = df_vol['server'].unique()\n",
    "\n",
    "# Percorrendo list_reg, gerando datasets por regional\n",
    "# ver https://python.plainenglish.io/how-to-dynamically-declare-variables-inside-a-loop-in-python-21e6880aaf8a\n",
    "for reg in list_reg:\n",
    "    df_vol_mask = df_vol['server'] == reg\n",
    "    df_vol_reg = df_vol[df_vol_mask]\n",
    "    print('Dados da regional' + reg + ':\\n') \n",
    "    print(df_vol_reg.head(10) + '\\n')\n",
    "    # df_vol[['particao', 'porcentagem', 'data']].copy()\n",
    "# df_vol_reg.head()"
   ]
  },
  {
   "cell_type": "markdown",
   "metadata": {},
   "source": [
    "GERANDO GRÁFICOS COM O SEABORN"
   ]
  },
  {
   "cell_type": "code",
   "execution_count": null,
   "metadata": {},
   "outputs": [],
   "source": [
    "sns.barplot(data=df_vol, x='data', y=)"
   ]
  }
 ],
 "metadata": {
  "kernelspec": {
   "display_name": "Python 3.9.13 64-bit (windows store)",
   "language": "python",
   "name": "python3"
  },
  "language_info": {
   "codemirror_mode": {
    "name": "ipython",
    "version": 3
   },
   "file_extension": ".py",
   "mimetype": "text/x-python",
   "name": "python",
   "nbconvert_exporter": "python",
   "pygments_lexer": "ipython3",
   "version": "3.9.13"
  },
  "orig_nbformat": 4,
  "vscode": {
   "interpreter": {
    "hash": "52fef9f371462526e6c16fbedf2b5b9bc32d90752958a415cf9672d41d7c1c70"
   }
  }
 },
 "nbformat": 4,
 "nbformat_minor": 2
}
