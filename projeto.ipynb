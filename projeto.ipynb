{
 "cells": [
  {
   "cell_type": "markdown",
   "metadata": {},
   "source": [
    "IMPORTANDO BIBLIOTECAS"
   ]
  },
  {
   "cell_type": "code",
   "execution_count": 12,
   "metadata": {},
   "outputs": [],
   "source": [
    "import os, shutil, sys, warnings\n",
    "import errno\n",
    "import pandas as pd\n",
    "import seaborn as sns"
   ]
  },
  {
   "cell_type": "markdown",
   "metadata": {},
   "source": [
    "PARAMETRIZAÇÃO DA APLICAÇÃO"
   ]
  },
  {
   "cell_type": "code",
   "execution_count": 13,
   "metadata": {},
   "outputs": [],
   "source": [
    "basedirwin = 'D:\\\\Git\\\\IBMEC\\\\Projeto-DAeA\\\\Dataset\\\\CSVS\\\\'\n",
    "warnings.simplefilter(action='ignore', category=FutureWarning)"
   ]
  },
  {
   "cell_type": "markdown",
   "metadata": {},
   "source": [
    "REMOVE CSVs VELHOS E COPIA OS NOVOS"
   ]
  },
  {
   "cell_type": "code",
   "execution_count": 14,
   "metadata": {},
   "outputs": [],
   "source": [
    "if os.path.exists(basedirwin):\n",
    "    shutil.rmtree(basedirwin)\n",
    "else:\n",
    "    sys.exit(\"Erro ao apagar o diretório de CSVs antigos. Não encontrado.\")\n",
    "\n",
    "try:\n",
    "    shutil.copytree('D:\\\\Git\\\\IBMEC\\\\Projeto-DAeA\\\\CSVS\\\\', 'D:\\\\Git\\\\IBMEC\\\\Projeto-DAeA\\\\Dataset\\\\CSVS\\\\', dirs_exist_ok=True)\n",
    "except OSError as err:\n",
    "    sys.exit(\"Erro copiando a pasta de CSVs novos: % s\" % err)"
   ]
  },
  {
   "cell_type": "markdown",
   "metadata": {},
   "source": [
    "VARIÁVEIS DE AMBIENTE"
   ]
  },
  {
   "cell_type": "code",
   "execution_count": 15,
   "metadata": {},
   "outputs": [],
   "source": [
    "try:\n",
    "    listadir = os.listdir(basedirwin)\n",
    "except OSError as err:\n",
    "    if err.errno == errno.ENOENT:\n",
    "        sys.exit(\"Erro listando o diretório de CSVs fonte: % s\" % err)"
   ]
  },
  {
   "cell_type": "markdown",
   "metadata": {},
   "source": [
    "FORMATANDO O ARQUIVO DE VOLUMES"
   ]
  },
  {
   "cell_type": "code",
   "execution_count": 16,
   "metadata": {},
   "outputs": [],
   "source": [
    "for dir in listadir:\n",
    "    with open(basedirwin + dir + '\\\\particoes.csv', 'r+') as file:\n",
    "        espaco = file.readlines()\n",
    "        for ln in espaco:\n",
    "            file.seek(espaco.index(ln))\n",
    "            dir2 = dir[0:4] + \"/\" + dir[4:6] + \"/\" + dir[6:8]\n",
    "            ln2 = ln[:-1] + \",\" + dir2 + \"\\n\"\n",
    "            with open(basedirwin + dir + '\\\\particoes2.csv', 'a') as fileNovo:\n",
    "                fileNovo.write(ln2)\n",
    "            fileNovo.close()\n",
    "    file.close()\n",
    "    os.remove(basedirwin + dir + '\\\\particoes.csv')\n",
    "    os.rename(basedirwin + dir + '\\\\particoes2.csv', basedirwin + dir + '\\\\particoes.csv')"
   ]
  },
  {
   "cell_type": "markdown",
   "metadata": {},
   "source": [
    "CARREGANDO OS DADOS DE BACKUP NO DATASET"
   ]
  },
  {
   "cell_type": "code",
   "execution_count": null,
   "metadata": {},
   "outputs": [],
   "source": [
    "df_bkp = pd.DataFrame()\n",
    "for dir in listadir:\n",
    "    df_bkp = df_bkp.append(pd.read_csv(basedirwin + dir + '\\\\coletas.csv', header=None))\n",
    "    # df_bkp = df_bkp.concat(pd.read_csv(basedirwin + dir + '\\\\coletas.csv'), ignore_index=True)\n",
    "df_bkp.columns = ['nodename', 'datainicio', 'status', 'result', 'datafim', 'server']\n",
    "df_bkp['datafim'] = df_bkp['datafim'].astype('datetime64[ns]')\n",
    "df_bkp.head()"
   ]
  },
  {
   "cell_type": "markdown",
   "metadata": {},
   "source": [
    "CARREGANDO OS DADOS DE VOLUME NO DATASET"
   ]
  },
  {
   "cell_type": "code",
   "execution_count": 36,
   "metadata": {},
   "outputs": [
    {
     "data": {
      "text/html": [
       "<div>\n",
       "<style scoped>\n",
       "    .dataframe tbody tr th:only-of-type {\n",
       "        vertical-align: middle;\n",
       "    }\n",
       "\n",
       "    .dataframe tbody tr th {\n",
       "        vertical-align: top;\n",
       "    }\n",
       "\n",
       "    .dataframe thead th {\n",
       "        text-align: right;\n",
       "    }\n",
       "</style>\n",
       "<table border=\"1\" class=\"dataframe\">\n",
       "  <thead>\n",
       "    <tr style=\"text-align: right;\">\n",
       "      <th></th>\n",
       "      <th>particao</th>\n",
       "      <th>total</th>\n",
       "      <th>usado</th>\n",
       "      <th>livre</th>\n",
       "      <th>porcentagem</th>\n",
       "      <th>server</th>\n",
       "      <th>data</th>\n",
       "    </tr>\n",
       "  </thead>\n",
       "  <tbody>\n",
       "    <tr>\n",
       "      <th>0</th>\n",
       "      <td>/tsm_fpool</td>\n",
       "      <td>3.7T</td>\n",
       "      <td>2.3T</td>\n",
       "      <td>1.4T</td>\n",
       "      <td>64%</td>\n",
       "      <td>TSM_OPBHE</td>\n",
       "      <td>2022-03-28</td>\n",
       "    </tr>\n",
       "    <tr>\n",
       "      <th>1</th>\n",
       "      <td>/tsm_archivelog</td>\n",
       "      <td>838G</td>\n",
       "      <td>598G</td>\n",
       "      <td>241G</td>\n",
       "      <td>72%</td>\n",
       "      <td>TSM_OPBHE</td>\n",
       "      <td>2022-03-28</td>\n",
       "    </tr>\n",
       "    <tr>\n",
       "      <th>2</th>\n",
       "      <td>/tsm_backup_db</td>\n",
       "      <td>559G</td>\n",
       "      <td>129G</td>\n",
       "      <td>430G</td>\n",
       "      <td>24%</td>\n",
       "      <td>TSM_OPBHE</td>\n",
       "      <td>2022-03-28</td>\n",
       "    </tr>\n",
       "    <tr>\n",
       "      <th>3</th>\n",
       "      <td>/tsm_fpool_copia</td>\n",
       "      <td>8.1T</td>\n",
       "      <td>6.8T</td>\n",
       "      <td>1.4T</td>\n",
       "      <td>84%</td>\n",
       "      <td>TSM_OPBHE</td>\n",
       "      <td>2022-03-28</td>\n",
       "    </tr>\n",
       "    <tr>\n",
       "      <th>4</th>\n",
       "      <td>/tsm_db</td>\n",
       "      <td>559G</td>\n",
       "      <td>71G</td>\n",
       "      <td>489G</td>\n",
       "      <td>13%</td>\n",
       "      <td>TSM_OPBHE</td>\n",
       "      <td>2022-03-28</td>\n",
       "    </tr>\n",
       "    <tr>\n",
       "      <th>...</th>\n",
       "      <td>...</td>\n",
       "      <td>...</td>\n",
       "      <td>...</td>\n",
       "      <td>...</td>\n",
       "      <td>...</td>\n",
       "      <td>...</td>\n",
       "      <td>...</td>\n",
       "    </tr>\n",
       "    <tr>\n",
       "      <th>29</th>\n",
       "      <td>/tsm_fpool_copia</td>\n",
       "      <td>4.0T</td>\n",
       "      <td>1.9T</td>\n",
       "      <td>2.1T</td>\n",
       "      <td>47%</td>\n",
       "      <td>TSM_OPFLA</td>\n",
       "      <td>2022-03-29</td>\n",
       "    </tr>\n",
       "    <tr>\n",
       "      <th>30</th>\n",
       "      <td>/tsm_fpool</td>\n",
       "      <td>525G</td>\n",
       "      <td>207G</td>\n",
       "      <td>319G</td>\n",
       "      <td>40%</td>\n",
       "      <td>TSM_OPFNS</td>\n",
       "      <td>2022-03-29</td>\n",
       "    </tr>\n",
       "    <tr>\n",
       "      <th>31</th>\n",
       "      <td>/tsm_fpool_copia</td>\n",
       "      <td>1.3T</td>\n",
       "      <td>860G</td>\n",
       "      <td>461G</td>\n",
       "      <td>66%</td>\n",
       "      <td>TSM_OPFNS</td>\n",
       "      <td>2022-03-29</td>\n",
       "    </tr>\n",
       "    <tr>\n",
       "      <th>32</th>\n",
       "      <td>/tsm_backup_db</td>\n",
       "      <td>200G</td>\n",
       "      <td>52G</td>\n",
       "      <td>149G</td>\n",
       "      <td>26%</td>\n",
       "      <td>TSM_OPFNS</td>\n",
       "      <td>2022-03-29</td>\n",
       "    </tr>\n",
       "    <tr>\n",
       "      <th>33</th>\n",
       "      <td>/tsm_activelog</td>\n",
       "      <td>50G</td>\n",
       "      <td>50G</td>\n",
       "      <td>976M</td>\n",
       "      <td>99%</td>\n",
       "      <td>TSM_OPFNS</td>\n",
       "      <td>2022-03-29</td>\n",
       "    </tr>\n",
       "  </tbody>\n",
       "</table>\n",
       "<p>100 rows × 7 columns</p>\n",
       "</div>"
      ],
      "text/plain": [
       "            particao total usado livre porcentagem     server       data\n",
       "0         /tsm_fpool  3.7T  2.3T  1.4T         64%  TSM_OPBHE 2022-03-28\n",
       "1    /tsm_archivelog  838G  598G  241G         72%  TSM_OPBHE 2022-03-28\n",
       "2     /tsm_backup_db  559G  129G  430G         24%  TSM_OPBHE 2022-03-28\n",
       "3   /tsm_fpool_copia  8.1T  6.8T  1.4T         84%  TSM_OPBHE 2022-03-28\n",
       "4            /tsm_db  559G   71G  489G         13%  TSM_OPBHE 2022-03-28\n",
       "..               ...   ...   ...   ...         ...        ...        ...\n",
       "29  /tsm_fpool_copia  4.0T  1.9T  2.1T         47%  TSM_OPFLA 2022-03-29\n",
       "30        /tsm_fpool  525G  207G  319G         40%  TSM_OPFNS 2022-03-29\n",
       "31  /tsm_fpool_copia  1.3T  860G  461G         66%  TSM_OPFNS 2022-03-29\n",
       "32    /tsm_backup_db  200G   52G  149G         26%  TSM_OPFNS 2022-03-29\n",
       "33    /tsm_activelog   50G   50G  976M         99%  TSM_OPFNS 2022-03-29\n",
       "\n",
       "[100 rows x 7 columns]"
      ]
     },
     "execution_count": 36,
     "metadata": {},
     "output_type": "execute_result"
    }
   ],
   "source": [
    "df_vol = pd.DataFrame()\n",
    "for dir in listadir:\n",
    "    df_vol = df_vol.append(pd.read_csv(basedirwin + dir + '\\\\particoes.csv', header=None))\n",
    "df_vol.columns = ['particao', 'total', 'usado', 'livre', 'porcentagem', 'server', 'data']\n",
    "df_vol['data'] = df_vol['data'].astype('datetime64[ns]')\n",
    "df_vol.head(100)"
   ]
  },
  {
   "cell_type": "markdown",
   "metadata": {},
   "source": [
    "GERANDO DATASETS DE PARTIÇÕES E PORCENTAGEM DE USO POR REGIONAL"
   ]
  },
  {
   "cell_type": "code",
   "execution_count": 45,
   "metadata": {},
   "outputs": [
    {
     "ename": "NameError",
     "evalue": "name 'df_vol_' is not defined",
     "output_type": "error",
     "traceback": [
      "\u001b[1;31m---------------------------------------------------------------------------\u001b[0m",
      "\u001b[1;31mNameError\u001b[0m                                 Traceback (most recent call last)",
      "\u001b[1;32md:\\Git\\IBMEC\\Projeto-DAeA\\projeto.ipynb Célula: 16\u001b[0m in \u001b[0;36m<cell line: 5>\u001b[1;34m()\u001b[0m\n\u001b[0;32m      <a href='vscode-notebook-cell:/d%3A/Git/IBMEC/Projeto-DAeA/projeto.ipynb#X25sZmlsZQ%3D%3D?line=3'>4</a>\u001b[0m \u001b[39m# Percorrendo list_reg, gerando datasets por regional\u001b[39;00m\n\u001b[0;32m      <a href='vscode-notebook-cell:/d%3A/Git/IBMEC/Projeto-DAeA/projeto.ipynb#X25sZmlsZQ%3D%3D?line=4'>5</a>\u001b[0m \u001b[39mfor\u001b[39;00m reg \u001b[39min\u001b[39;00m list_reg:\n\u001b[1;32m----> <a href='vscode-notebook-cell:/d%3A/Git/IBMEC/Projeto-DAeA/projeto.ipynb#X25sZmlsZQ%3D%3D?line=5'>6</a>\u001b[0m     df_vol_[reg] \u001b[39m=\u001b[39m reg\n\u001b[0;32m      <a href='vscode-notebook-cell:/d%3A/Git/IBMEC/Projeto-DAeA/projeto.ipynb#X25sZmlsZQ%3D%3D?line=6'>7</a>\u001b[0m     \u001b[39mprint\u001b[39m(\u001b[39m'\u001b[39m\u001b[39mO valor de df_vol_\u001b[39m\u001b[39m'\u001b[39m \u001b[39m+\u001b[39m reg \u001b[39m+\u001b[39m \u001b[39m'\u001b[39m\u001b[39mé: \u001b[39m\u001b[39m'\u001b[39m \u001b[39m+\u001b[39m df_vol_[reg] \u001b[39m+\u001b[39m \u001b[39m'\u001b[39m\u001b[39m\\n\u001b[39;00m\u001b[39m'\u001b[39m)\n",
      "\u001b[1;31mNameError\u001b[0m: name 'df_vol_' is not defined"
     ]
    }
   ],
   "source": [
    "# Gerar lista de regionais (list_reg)\n",
    "list_reg = df_vol['server'].unique()\n",
    "\n",
    "# Percorrendo list_reg, gerando datasets por regional\n",
    "# ver https://python.plainenglish.io/how-to-dynamically-declare-variables-inside-a-loop-in-python-21e6880aaf8a\n",
    "for reg in list_reg:\n",
    "    df_vol_[reg] = reg\n",
    "    print('O valor de df_vol_' + reg + 'é: ' + df_vol_[reg] + '\\n')\n",
    "    # df_vol[['particao', 'porcentagem', 'data']].copy()\n",
    "# df_vol_reg.head()"
   ]
  },
  {
   "cell_type": "markdown",
   "metadata": {},
   "source": [
    "GERANDO GRÁFICOS COM O SEABORN"
   ]
  },
  {
   "cell_type": "code",
   "execution_count": null,
   "metadata": {},
   "outputs": [],
   "source": [
    "sns.barplot(data=df_vol, x='data', y=)"
   ]
  }
 ],
 "metadata": {
  "kernelspec": {
   "display_name": "Python 3.9.13 64-bit (windows store)",
   "language": "python",
   "name": "python3"
  },
  "language_info": {
   "codemirror_mode": {
    "name": "ipython",
    "version": 3
   },
   "file_extension": ".py",
   "mimetype": "text/x-python",
   "name": "python",
   "nbconvert_exporter": "python",
   "pygments_lexer": "ipython3",
   "version": "3.9.13"
  },
  "orig_nbformat": 4,
  "vscode": {
   "interpreter": {
    "hash": "52fef9f371462526e6c16fbedf2b5b9bc32d90752958a415cf9672d41d7c1c70"
   }
  }
 },
 "nbformat": 4,
 "nbformat_minor": 2
}
