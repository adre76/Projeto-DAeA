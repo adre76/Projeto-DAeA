{
 "cells": [
  {
   "cell_type": "markdown",
   "metadata": {},
   "source": [
    "IMPORTANDO BIBLIOTECAS"
   ]
  },
  {
   "cell_type": "code",
   "execution_count": 1,
   "metadata": {},
   "outputs": [],
   "source": [
    "import os, shutil, sys, warnings\n",
    "import errno\n",
    "import pandas as pd\n",
    "import seaborn as sns\n",
    "import matplotlib.pyplot as plt"
   ]
  },
  {
   "cell_type": "markdown",
   "metadata": {},
   "source": [
    "PARAMETRIZAÇÃO DA APLICAÇÃO"
   ]
  },
  {
   "cell_type": "code",
   "execution_count": 2,
   "metadata": {},
   "outputs": [],
   "source": [
    "basedirwin = 'D:\\\\Git\\\\IBMEC\\\\Projeto-DAeA\\\\Dataset\\\\CSVS\\\\'\n",
    "warnings.simplefilter(action='ignore', category=FutureWarning)"
   ]
  },
  {
   "cell_type": "markdown",
   "metadata": {},
   "source": [
    "REMOVE CSVs VELHOS E COPIA OS NOVOS"
   ]
  },
  {
   "cell_type": "code",
   "execution_count": 3,
   "metadata": {},
   "outputs": [],
   "source": [
    "if os.path.exists(basedirwin):\n",
    "    shutil.rmtree(basedirwin)\n",
    "else:\n",
    "    sys.exit(\"Erro ao apagar o diretório de CSVs antigos. Não encontrado.\")\n",
    "\n",
    "try:\n",
    "    shutil.copytree('D:\\\\Git\\\\IBMEC\\\\Projeto-DAeA\\\\CSVS\\\\', 'D:\\\\Git\\\\IBMEC\\\\Projeto-DAeA\\\\Dataset\\\\CSVS\\\\', dirs_exist_ok=True)\n",
    "except OSError as err:\n",
    "    sys.exit(\"Erro copiando a pasta de CSVs novos: % s\" % err)"
   ]
  },
  {
   "cell_type": "markdown",
   "metadata": {},
   "source": [
    "GERANDO LISTA DE PASTAS"
   ]
  },
  {
   "cell_type": "code",
   "execution_count": 4,
   "metadata": {},
   "outputs": [],
   "source": [
    "try:\n",
    "    listadir = os.listdir(basedirwin)\n",
    "except OSError as err:\n",
    "    if err.errno == errno.ENOENT:\n",
    "        sys.exit(\"Erro listando o diretório de CSVs fonte: % s\" % err)"
   ]
  },
  {
   "cell_type": "markdown",
   "metadata": {},
   "source": [
    "FORMATANDO O ARQUIVO DE VOLUMES"
   ]
  },
  {
   "cell_type": "code",
   "execution_count": 5,
   "metadata": {},
   "outputs": [],
   "source": [
    "for dir in listadir:\n",
    "    with open(basedirwin + dir + '\\\\particoes.csv', 'r+') as file:\n",
    "        espaco = file.readlines()\n",
    "        for ln in espaco:\n",
    "            file.seek(espaco.index(ln))\n",
    "            dir2 = dir[6:8] + dir[4:6] + dir[0:4]\n",
    "            ln2 = ln[:-1] + \",\" + dir2 + \"\\n\"\n",
    "            with open(basedirwin + dir + '\\\\particoes2.csv', 'a') as fileNovo:\n",
    "                fileNovo.write(ln2)\n",
    "            fileNovo.close()\n",
    "    file.close()\n",
    "    os.remove(basedirwin + dir + '\\\\particoes.csv')\n",
    "    os.rename(basedirwin + dir + '\\\\particoes2.csv', basedirwin + dir + '\\\\particoes.csv')"
   ]
  },
  {
   "cell_type": "markdown",
   "metadata": {},
   "source": [
    "CARREGANDO OS DADOS DE BACKUP NO DATASET"
   ]
  },
  {
   "cell_type": "code",
   "execution_count": 6,
   "metadata": {},
   "outputs": [],
   "source": [
    "df_bkp = pd.DataFrame()\n",
    "for dir in listadir:\n",
    "    df_bkp = df_bkp.append(pd.read_csv(basedirwin + dir + '\\\\coletas.csv', header=None))\n",
    "    # df_bkp = df_bkp.concat(pd.read_csv(basedirwin + dir + '\\\\coletas.csv'), ignore_index=True)\n",
    "df_bkp.columns = ['nodename', 'datainicio', 'status', 'result', 'datafim', 'server']"
   ]
  },
  {
   "cell_type": "markdown",
   "metadata": {},
   "source": [
    "CARREGANDO OS DADOS DE ESPAÇO EM DISCO DAS PARTIÇÕES NO DATASET"
   ]
  },
  {
   "cell_type": "code",
   "execution_count": 8,
   "metadata": {},
   "outputs": [],
   "source": [
    "df_vol = pd.DataFrame()\n",
    "for dir in listadir:\n",
    "    df_vol = df_vol.append(pd.read_csv(basedirwin + dir + '\\\\particoes.csv', header=None))\n",
    "df_vol.columns = ['particao', 'total', 'usado', 'livre', 'porcentagem', 'server', 'data']\n",
    "df_vol['data'] = pd.to_datetime(df_vol['data'], format='%d%m%Y')"
   ]
  },
  {
   "cell_type": "markdown",
   "metadata": {},
   "source": [
    "REMOVENDO SINAIS DOS DADOS (T, G, M, %)"
   ]
  },
  {
   "cell_type": "code",
   "execution_count": 9,
   "metadata": {},
   "outputs": [],
   "source": [
    "df_vol['total'] = df_vol['total'].str.replace('T|G|M', '')\n",
    "df_vol['usado'] = df_vol['usado'].str.replace('T|G|M', '')\n",
    "df_vol['livre'] = df_vol['livre'].str.replace('T|G|M', '')\n",
    "df_vol['porcentagem'] = df_vol['porcentagem'].str.replace('%', '')"
   ]
  },
  {
   "cell_type": "markdown",
   "metadata": {},
   "source": [
    "GERANDO DATASETS DE PARTIÇÕES E PORCENTAGEM DE USO POR REGIONAL"
   ]
  },
  {
   "cell_type": "code",
   "execution_count": 10,
   "metadata": {},
   "outputs": [],
   "source": [
    "# Gerar lista de regionais (list_reg)\n",
    "list_reg = df_vol['server'].unique()\n",
    "\n",
    "# Percorrendo list_reg, gerando datasets por regional\n",
    "for reg in list_reg:\n",
    "    globals()[f'df_vol_{reg}'] = df_vol[df_vol['server'].str.contains(reg)]"
   ]
  },
  {
   "cell_type": "markdown",
   "metadata": {},
   "source": [
    "GERANDO GRÁFICOS COM O SEABORN"
   ]
  },
  {
   "cell_type": "code",
   "execution_count": 14,
   "metadata": {},
   "outputs": [
    {
     "data": {
      "text/html": [
       "<div>\n",
       "<style scoped>\n",
       "    .dataframe tbody tr th:only-of-type {\n",
       "        vertical-align: middle;\n",
       "    }\n",
       "\n",
       "    .dataframe tbody tr th {\n",
       "        vertical-align: top;\n",
       "    }\n",
       "\n",
       "    .dataframe thead th {\n",
       "        text-align: right;\n",
       "    }\n",
       "</style>\n",
       "<table border=\"1\" class=\"dataframe\">\n",
       "  <thead>\n",
       "    <tr style=\"text-align: right;\">\n",
       "      <th></th>\n",
       "      <th>particao</th>\n",
       "      <th>total</th>\n",
       "      <th>usado</th>\n",
       "      <th>livre</th>\n",
       "      <th>porcentagem</th>\n",
       "      <th>server</th>\n",
       "      <th>data</th>\n",
       "    </tr>\n",
       "  </thead>\n",
       "  <tbody>\n",
       "    <tr>\n",
       "      <th>0</th>\n",
       "      <td>/tsm_fpool</td>\n",
       "      <td>7.0</td>\n",
       "      <td>1.1</td>\n",
       "      <td>6.0</td>\n",
       "      <td>16</td>\n",
       "      <td>TSM_OPRJO</td>\n",
       "      <td>2022-03-28</td>\n",
       "    </tr>\n",
       "    <tr>\n",
       "      <th>1</th>\n",
       "      <td>/tsm_fpool</td>\n",
       "      <td>7.0</td>\n",
       "      <td>1.1</td>\n",
       "      <td>6.0</td>\n",
       "      <td>16</td>\n",
       "      <td>TSM_OPRJO</td>\n",
       "      <td>2022-03-29</td>\n",
       "    </tr>\n",
       "    <tr>\n",
       "      <th>2</th>\n",
       "      <td>/tsm_fpool</td>\n",
       "      <td>7.0</td>\n",
       "      <td>1.1</td>\n",
       "      <td>6.0</td>\n",
       "      <td>16</td>\n",
       "      <td>TSM_OPRJO</td>\n",
       "      <td>2022-03-30</td>\n",
       "    </tr>\n",
       "    <tr>\n",
       "      <th>3</th>\n",
       "      <td>/tsm_fpool</td>\n",
       "      <td>7.0</td>\n",
       "      <td>1.1</td>\n",
       "      <td>6.0</td>\n",
       "      <td>16</td>\n",
       "      <td>TSM_OPRJO</td>\n",
       "      <td>2022-03-31</td>\n",
       "    </tr>\n",
       "    <tr>\n",
       "      <th>4</th>\n",
       "      <td>/tsm_fpool</td>\n",
       "      <td>7.0</td>\n",
       "      <td>1.1</td>\n",
       "      <td>6.0</td>\n",
       "      <td>16</td>\n",
       "      <td>TSM_OPRJO</td>\n",
       "      <td>2022-04-10</td>\n",
       "    </tr>\n",
       "  </tbody>\n",
       "</table>\n",
       "</div>"
      ],
      "text/plain": [
       "     particao total usado livre porcentagem     server       data\n",
       "0  /tsm_fpool   7.0   1.1   6.0          16  TSM_OPRJO 2022-03-28\n",
       "1  /tsm_fpool   7.0   1.1   6.0          16  TSM_OPRJO 2022-03-29\n",
       "2  /tsm_fpool   7.0   1.1   6.0          16  TSM_OPRJO 2022-03-30\n",
       "3  /tsm_fpool   7.0   1.1   6.0          16  TSM_OPRJO 2022-03-31\n",
       "4  /tsm_fpool   7.0   1.1   6.0          16  TSM_OPRJO 2022-04-10"
      ]
     },
     "execution_count": 14,
     "metadata": {},
     "output_type": "execute_result"
    },
    {
     "data": {
      "image/png": "[encoded data removed]",
      "text/plain": [
       "<Figure size 1224x288 with 1 Axes>"
      ]
     },
     "metadata": {
      "needs_background": "light"
     },
     "output_type": "display_data"
    }
   ],
   "source": [
    "TSM_OPRJO_fpool = df_vol_TSM_OPRJO[df_vol_TSM_OPRJO['particao'] == '/tsm_fpool']\n",
    "#TSM_OPRJO_fpool = TSM_OPRJO_fpool.drop_duplicates(subset='porcentagem')\n",
    "TSM_OPRJO_fpool.reset_index(drop=True, inplace=True)\n",
    "plt.figure(figsize = (17,4))\n",
    "fpool = sns.lineplot(data = TSM_OPRJO_fpool, x = 'data', y = 'porcentagem')\n",
    "fpool.set_xlabel('Data', fontsize = 10)\n",
    "fpool.set_ylabel('% de espaço livre', fontsize = 10)\n",
    "fpool.set_title('TSM OPRJO - /fpool')\n",
    "TSM_OPRJO_fpool.head()"
   ]
  },
  {
   "cell_type": "markdown",
   "metadata": {},
   "source": [
    "MACHINE LEARNING"
   ]
  },
  {
   "cell_type": "code",
   "execution_count": 21,
   "metadata": {},
   "outputs": [
    {
     "name": "stdout",
     "output_type": "stream",
     "text": [
      "(95,) (41,) (95,) (41,)\n"
     ]
    }
   ],
   "source": [
    "from sklearn.linear_model import LinearRegression\n",
    "from sklearn.model_selection import train_test_split\n",
    "\n",
    "Xtrain, Xval, Ytrain, Yval = train_test_split(TSM_OPRJO_fpool['data'], TSM_OPRJO_fpool['porcentagem'], test_size=0.3, random_state=0)\n",
    "print(Xtrain.shape, Xval.shape, Ytrain.shape, Yval.shape)\n",
    "\n",
    "modelo = LinearRegression(n_jobs=4, normalize=True)\n",
    "# modelo.fit(Xtrain, Ytrain)\n",
    "# previsao = modelo.predict(Xval)"
   ]
  },
  {
   "cell_type": "code",
   "execution_count": null,
   "metadata": {},
   "outputs": [],
   "source": []
  }
 ],
 "metadata": {
  "kernelspec": {
   "display_name": "Python 3.9.13 64-bit (windows store)",
   "language": "python",
   "name": "python3"
  },
  "language_info": {
   "codemirror_mode": {
    "name": "ipython",
    "version": 3
   },
   "file_extension": ".py",
   "mimetype": "text/x-python",
   "name": "python",
   "nbconvert_exporter": "python",
   "pygments_lexer": "ipython3",
   "version": "3.9.13"
  },
  "orig_nbformat": 4,
  "vscode": {
   "interpreter": {
    "hash": "52fef9f371462526e6c16fbedf2b5b9bc32d90752958a415cf9672d41d7c1c70"
   }
  }
 },
 "nbformat": 4,
 "nbformat_minor": 2
}
