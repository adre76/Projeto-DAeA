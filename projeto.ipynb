{
 "cells": [
  {
   "cell_type": "markdown",
   "metadata": {},
   "source": [
    "IMPORTANDO BIBLIOTECAS"
   ]
  },
  {
   "cell_type": "code",
   "execution_count": 70,
   "metadata": {},
   "outputs": [],
   "source": [
    "import os, shutil, sys, warnings\n",
    "import errno\n",
    "import pandas as pd\n",
    "import seaborn as sns\n",
    "import matplotlib.pyplot as plt"
   ]
  },
  {
   "cell_type": "markdown",
   "metadata": {},
   "source": [
    "PARAMETRIZAÇÃO DA APLICAÇÃO"
   ]
  },
  {
   "cell_type": "code",
   "execution_count": 2,
   "metadata": {},
   "outputs": [],
   "source": [
    "basedirwin = 'D:\\\\Git\\\\IBMEC\\\\Projeto-DAeA\\\\Dataset\\\\CSVS\\\\'\n",
    "warnings.simplefilter(action='ignore', category=FutureWarning)"
   ]
  },
  {
   "cell_type": "markdown",
   "metadata": {},
   "source": [
    "REMOVE CSVs VELHOS E COPIA OS NOVOS"
   ]
  },
  {
   "cell_type": "code",
   "execution_count": 123,
   "metadata": {},
   "outputs": [],
   "source": [
    "if os.path.exists(basedirwin):\n",
    "    shutil.rmtree(basedirwin)\n",
    "else:\n",
    "    sys.exit(\"Erro ao apagar o diretório de CSVs antigos. Não encontrado.\")\n",
    "\n",
    "try:\n",
    "    shutil.copytree('D:\\\\Git\\\\IBMEC\\\\Projeto-DAeA\\\\CSVS\\\\', 'D:\\\\Git\\\\IBMEC\\\\Projeto-DAeA\\\\Dataset\\\\CSVS\\\\', dirs_exist_ok=True)\n",
    "except OSError as err:\n",
    "    sys.exit(\"Erro copiando a pasta de CSVs novos: % s\" % err)"
   ]
  },
  {
   "cell_type": "markdown",
   "metadata": {},
   "source": [
    "GERANDO LISTA DE PASTAS"
   ]
  },
  {
   "cell_type": "code",
   "execution_count": 124,
   "metadata": {},
   "outputs": [],
   "source": [
    "try:\n",
    "    listadir = os.listdir(basedirwin)\n",
    "except OSError as err:\n",
    "    if err.errno == errno.ENOENT:\n",
    "        sys.exit(\"Erro listando o diretório de CSVs fonte: % s\" % err)"
   ]
  },
  {
   "cell_type": "markdown",
   "metadata": {},
   "source": [
    "FORMATANDO O ARQUIVO DE VOLUMES"
   ]
  },
  {
   "cell_type": "code",
   "execution_count": 125,
   "metadata": {},
   "outputs": [],
   "source": [
    "for dir in listadir:\n",
    "    with open(basedirwin + dir + '\\\\particoes.csv', 'r+') as file:\n",
    "        espaco = file.readlines()\n",
    "        for ln in espaco:\n",
    "            file.seek(espaco.index(ln))\n",
    "            dir2 = dir[6:8] + dir[4:6] + dir[0:4]\n",
    "            ln2 = ln[:-1] + \",\" + dir2 + \"\\n\"\n",
    "            with open(basedirwin + dir + '\\\\particoes2.csv', 'a') as fileNovo:\n",
    "                fileNovo.write(ln2)\n",
    "            fileNovo.close()\n",
    "    file.close()\n",
    "    os.remove(basedirwin + dir + '\\\\particoes.csv')\n",
    "    os.rename(basedirwin + dir + '\\\\particoes2.csv', basedirwin + dir + '\\\\particoes.csv')"
   ]
  },
  {
   "cell_type": "markdown",
   "metadata": {},
   "source": [
    "CARREGANDO OS DADOS DE BACKUP NO DATASET"
   ]
  },
  {
   "cell_type": "code",
   "execution_count": 126,
   "metadata": {},
   "outputs": [],
   "source": [
    "df_bkp = pd.DataFrame()\n",
    "for dir in listadir:\n",
    "    df_bkp = df_bkp.append(pd.read_csv(basedirwin + dir + '\\\\coletas.csv', header=None))\n",
    "    # df_bkp = df_bkp.concat(pd.read_csv(basedirwin + dir + '\\\\coletas.csv'), ignore_index=True)\n",
    "df_bkp.columns = ['nodename', 'datainicio', 'status', 'result', 'datafim', 'server']"
   ]
  },
  {
   "cell_type": "markdown",
   "metadata": {},
   "source": [
    "CARREGANDO OS DADOS DE ESPAÇO EM DISCO DAS PARTIÇÕES NO DATASET"
   ]
  },
  {
   "cell_type": "code",
   "execution_count": 128,
   "metadata": {},
   "outputs": [
    {
     "data": {
      "text/plain": [
       "particao               object\n",
       "total                  object\n",
       "usado                  object\n",
       "livre                  object\n",
       "porcentagem            object\n",
       "server                 object\n",
       "data           datetime64[ns]\n",
       "dtype: object"
      ]
     },
     "execution_count": 128,
     "metadata": {},
     "output_type": "execute_result"
    }
   ],
   "source": [
    "df_vol = pd.DataFrame()\n",
    "for dir in listadir:\n",
    "    df_vol = df_vol.append(pd.read_csv(basedirwin + dir + '\\\\particoes.csv', header=None))\n",
    "df_vol.columns = ['particao', 'total', 'usado', 'livre', 'porcentagem', 'server', 'data']\n",
    "df_vol['data'] = pd.to_datetime(df_vol['data'], format='%d%m%Y')\n",
    "df_vol.dtypes"
   ]
  },
  {
   "cell_type": "markdown",
   "metadata": {},
   "source": [
    "REMOVENDO SINAIS DOS DADOS (T, G, M, %)"
   ]
  },
  {
   "cell_type": "code",
   "execution_count": 129,
   "metadata": {},
   "outputs": [],
   "source": [
    "df_vol['total'] = df_vol['total'].str.replace('T|G|M', '')\n",
    "df_vol['usado'] = df_vol['usado'].str.replace('T|G|M', '')\n",
    "df_vol['livre'] = df_vol['livre'].str.replace('T|G|M', '')\n",
    "df_vol['porcentagem'] = df_vol['porcentagem'].str.replace('%', '')"
   ]
  },
  {
   "cell_type": "markdown",
   "metadata": {},
   "source": [
    "GERANDO DATASETS DE PARTIÇÕES E PORCENTAGEM DE USO POR REGIONAL"
   ]
  },
  {
   "cell_type": "code",
   "execution_count": 136,
   "metadata": {},
   "outputs": [],
   "source": [
    "# Gerar lista de regionais (list_reg)\n",
    "list_reg = df_vol['server'].unique()\n",
    "\n",
    "# Percorrendo list_reg, gerando datasets por regional\n",
    "for reg in list_reg:\n",
    "    globals()[f'df_vol_{reg}'] = df_vol[df_vol['server'].str.contains(reg)]"
   ]
  },
  {
   "cell_type": "markdown",
   "metadata": {},
   "source": [
    "GERANDO GRÁFICOS COM O SEABORN"
   ]
  },
  {
   "cell_type": "code",
   "execution_count": 149,
   "metadata": {},
   "outputs": [
    {
     "data": {
      "text/plain": [
       "<AxesSubplot:xlabel='data', ylabel='porcentagem'>"
      ]
     },
     "execution_count": 149,
     "metadata": {},
     "output_type": "execute_result"
    },
    {
     "data": {
      "image/png": "[encoded data removed]",
      "text/plain": [
       "<Figure size 504x288 with 1 Axes>"
      ]
     },
     "metadata": {
      "needs_background": "light"
     },
     "output_type": "display_data"
    }
   ],
   "source": [
    "TSM_OPRJO_fpool = df_vol_TSM_OPRJO[df_vol_TSM_OPRJO['particao'] == '/tsm_fpool']\n",
    "#TSM_OPRJO_fpool = TSM_OPRJO_fpool.drop_duplicates(subset='porcentagem')\n",
    "TSM_OPRJO_fpool.reset_index(drop=True, inplace=True)\n",
    "plt.figure(figsize = (7,4))\n",
    "sns.lineplot(data = TSM_OPRJO_fpool, x = 'data', y = 'porcentagem')"
   ]
  },
  {
   "cell_type": "code",
   "execution_count": null,
   "metadata": {},
   "outputs": [],
   "source": []
  }
 ],
 "metadata": {
  "kernelspec": {
   "display_name": "Python 3.9.13 64-bit (windows store)",
   "language": "python",
   "name": "python3"
  },
  "language_info": {
   "codemirror_mode": {
    "name": "ipython",
    "version": 3
   },
   "file_extension": ".py",
   "mimetype": "text/x-python",
   "name": "python",
   "nbconvert_exporter": "python",
   "pygments_lexer": "ipython3",
   "version": "3.9.13"
  },
  "orig_nbformat": 4,
  "vscode": {
   "interpreter": {
    "hash": "52fef9f371462526e6c16fbedf2b5b9bc32d90752958a415cf9672d41d7c1c70"
   }
  }
 },
 "nbformat": 4,
 "nbformat_minor": 2
}
